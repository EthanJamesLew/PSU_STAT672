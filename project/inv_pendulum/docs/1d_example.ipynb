{
 "cells": [
  {
   "cell_type": "code",
   "execution_count": null,
   "metadata": {
    "collapsed": true
   },
   "outputs": [],
   "source": [
    "from __future__ import division, print_function\n",
    "\n",
    "import GPy\n",
    "import numpy as np\n",
    "import matplotlib.pyplot as plt\n",
    "%matplotlib inline\n",
    "\n",
    "from safe_learning import *"
   ]
  },
  {
   "cell_type": "markdown",
   "metadata": {},
   "source": [
    "We start by defining a discretization of the space $[-1, 1]$ with discretization constant $\\tau$"
   ]
  },
  {
   "cell_type": "code",
   "execution_count": null,
   "metadata": {
    "collapsed": false
   },
   "outputs": [],
   "source": [
    "# Discretization constant\n",
    "tau = 0.001\n",
    "\n",
    "# x_min, x_max, discretization\n",
    "grid_param = [-1., 1., tau]\n",
    "\n",
    "extent = np.array(grid_param[:2])\n",
    "\n",
    "# Create a grid\n",
    "grid = np.arange(*grid_param)[:, None]\n",
    "num_samples = len(grid)\n",
    "\n",
    "print('Grid size: {0}'.format(len(grid)))"
   ]
  },
  {
   "cell_type": "markdown",
   "metadata": {},
   "source": [
    "### Draw system dynamics from a GP\n",
    "\n",
    "We define a kernel, $k(x,x') = k_{\\mathrm{linear}}(x, x') * k_{\\mathrm{Matern}}(x, x')$, which models a nonlinear, 2-times differentiable function with linearly increasing amplitude. We draw a sample from this kernel in order to define the dynamics.\n",
    "\n",
    "The following plot shows the kind of functions that this kernel implies"
   ]
  },
  {
   "cell_type": "code",
   "execution_count": null,
   "metadata": {
    "collapsed": false
   },
   "outputs": [],
   "source": [
    "kernel = GPy.kern.Matern32(1, lengthscale=0.2, variance=0.2**2) * GPy.kern.Linear(1)\n",
    "\n",
    "for i in range(10):\n",
    "    f = sample_gp_function(kernel,\n",
    "                           [extent],\n",
    "                           num_samples=100,\n",
    "                           noise_var=0.1,\n",
    "                           interpolation='kernel')\n",
    "    plt.plot(grid, f(grid, noise=False))\n",
    "\n",
    "plt.ylabel('$f(x)$')\n",
    "plt.xlabel('x')\n",
    "plt.title('Samples drawn from the GP model of the dynamics')\n",
    "plt.show()"
   ]
  },
  {
   "cell_type": "markdown",
   "metadata": {},
   "source": [
    "We define the GP model using one particular sample of the GP, in addition to a stable, closed-loop, linear model.\n",
    "$$\\dot{x} = -0.25 x + g_\\pi(x),$$\n",
    "\n",
    "The prior dynamics are locally asymptotically stable. Moreover, in the one-dimensional case, the dynamics are stable as long as $\\dot{x} > 0$ if $x<0$ and $\\dot{x} < 0$ if $x>0$."
   ]
  },
  {
   "cell_type": "code",
   "execution_count": null,
   "metadata": {
    "collapsed": false
   },
   "outputs": [],
   "source": [
    "# Observation noise\n",
    "noise_var = 0.01 ** 2\n",
    "\n",
    "# Mean dynamics\n",
    "mf = GPy.core.Mapping(1, 1)\n",
    "mf.f = lambda x: -0.25 * x\n",
    "mf.update_gradients = lambda a, b: None\n",
    "\n",
    "# Define one sample as the true dynamics\n",
    "np.random.seed(5)\n",
    "true_dynamics = sample_gp_function(kernel,\n",
    "                                   [extent],\n",
    "                                   num_samples=100,\n",
    "                                   noise_var=noise_var,\n",
    "                                   interpolation='kernel',\n",
    "                                   mean_function=mf.f)\n",
    "\n",
    "gp = GPy.core.GP(np.array([[0]]), np.array([[0]]),\n",
    "                 kernel, GPy.likelihoods.Gaussian(variance=noise_var),\n",
    "                 mean_function=mf)\n",
    "\n",
    "gp.plot_f(plot_limits=extent)\n",
    "plt.plot(grid, true_dynamics(grid, noise=False), color='black', alpha=0.8)\n",
    "plt.title('GP model of the dynamics')\n",
    "plt.show()"
   ]
  },
  {
   "cell_type": "markdown",
   "metadata": {},
   "source": [
    "Additionally we define a random lyapunov function. Unlike for multiple dimensions, in the one-dimensional case all radially increasing functions are equivalent. Here we pick\n",
    "$$V(x) = x^2$$\n",
    "The previous GP model defines a GP model over $\\dot{V}(x) = \\frac{\\partial V(x)}{\\partial x} f(x)$. In the following, we only consider the 2-$\\sigma$ upper confidence bound of this model. Since the dynamics are Lipschitz continuous, $\\dot{V}$ is Lipschitz continuous as well.\n",
    "\n",
    "In particular, we use Lemma 5 to determine an appropriate Lipschitz constant. For the sample path of the GP, we use the high-probability Lipschitz constant encoded by the kernel."
   ]
  },
  {
   "cell_type": "code",
   "execution_count": null,
   "metadata": {
    "collapsed": false
   },
   "outputs": [],
   "source": [
    "lyapunov_function = lambda x: quadratic_lyapunov_function(x, np.array([[1]]))\n",
    "V, dV = lyapunov_function(grid)\n",
    "\n",
    "# V, dV = lyapunov(grid)\n",
    "accuracy = np.max(V) / 1e10\n",
    "beta = 2\n",
    "\n",
    "# Lipschitz constant\n",
    "L_dyn = 0.25 + beta * np.sqrt(gp.kern.Mat32.variance) / gp.kern.Mat32.lengthscale * np.max(np.abs(extent))\n",
    "B_dyn = (0.25 + np.sqrt(gp.kern.Mat32.variance)) * np.max(np.abs(extent))\n",
    "B_dV = L_V = np.max(dV)\n",
    "L_dV = 1\n",
    "\n",
    "L = B_dyn * L_dV + B_dV * L_dyn"
   ]
  },
  {
   "cell_type": "markdown",
   "metadata": {},
   "source": [
    "## Safety based on GP model\n",
    "Let's write a plotting script for the GP model:"
   ]
  },
  {
   "cell_type": "code",
   "execution_count": null,
   "metadata": {
    "collapsed": true
   },
   "outputs": [],
   "source": [
    "def plot_model(S, beta=2, legend=False):    \n",
    "    # Create figure axes\n",
    "    fig, axes = plt.subplots(2, 1, figsize=(10, 12))\n",
    "    \n",
    "    # Format axes\n",
    "    axes[0].set_title('GP model of the dynamics')\n",
    "    axes[1].set_xlim(extent)\n",
    "    axes[1].set_xlabel('$x$')\n",
    "    axes[1].set_ylabel(r'Upper bound of $\\dot{V}(x)$')\n",
    "    axes[1].set_title(r'Determining stability with $\\dot{V}(x)$')\n",
    "    \n",
    "    # Lyapunov function\n",
    "    V, dV = lyapunov_function(grid)\n",
    "    mean, var = gp._raw_predict(grid)\n",
    "    V_dot_mean, V_dot_var = compute_v_dot_distribution(dV, mean, var)\n",
    "\n",
    "    # Plot dynamics\n",
    "    axes[0].plot(grid, true_dynamics(grid, noise=False), color='black', alpha=0.8)\n",
    "    \n",
    "    axes[0].fill_between(grid[:, 0],\n",
    "                         mean[:, 0] + beta * np.sqrt(var[:, 0]),\n",
    "                         mean[:, 0] - beta * np.sqrt(var[:, 0]),\n",
    "                         color=(0.8, 0.8, 1))\n",
    "    axes[0].plot(gp.X, gp.Y, 'x', ms=8, mew=2)\n",
    "\n",
    "    # Plot V_dot\n",
    "    v_dot_est_plot = plt.fill_between(grid.squeeze(),\n",
    "                                      V_dot_mean + beta * np.sqrt(V_dot_var),\n",
    "                                      V_dot_mean - beta * np.sqrt(V_dot_var),\n",
    "                                      color=(0.8, 0.8, 1))\n",
    "    threshold = plt.plot(extent, [-L*tau, -L*tau], 'k-.', label=r'Safety threshold ($L \\tau$ )')\n",
    "    v_dot_true_plot = axes[1].plot(grid, dV * true_dynamics(grid, noise=False), 'k',\n",
    "                                   label=r'True $\\dot{V}(x)$')\n",
    "\n",
    "    # Create twin axis\n",
    "    ax2 = axes[1].twinx()\n",
    "    ax2.set_ylabel(r'$V(x)$')\n",
    "    ax2.set_xlim(extent)\n",
    "    \n",
    "    # Plot Lyapunov function\n",
    "    V_unsafe = np.ma.masked_where(S, V)\n",
    "    V_safe = np.ma.masked_where(~S , V)\n",
    "    unsafe_plot = ax2.plot(grid, V_unsafe, 'b', label=r'$V(x)$ (unsafe, $\\dot{V}(x) > L \\tau$)')\n",
    "    safe_plot = ax2.plot(grid, V_safe, 'r', label=r'$V(x)$ (safe, $\\dot{V}(x) \\leq L \\tau$)')\n",
    "\n",
    "    if legend:\n",
    "        lns = unsafe_plot + safe_plot + threshold + v_dot_true_plot\n",
    "        labels = [x.get_label() for x in lns]\n",
    "        plt.legend(lns, labels, loc=4, fancybox=True, framealpha=0.75)\n",
    "    \n",
    "    # Create helper lines\n",
    "    if np.any(S):\n",
    "        x_safe = grid[S][np.argmax(V[S])]\n",
    "        y_range = axes[1].get_ylim()\n",
    "        axes[1].plot([x_safe, x_safe], y_range, 'k-.')\n",
    "        axes[1].plot([-x_safe, -x_safe], y_range, 'k-.')\n",
    "        \n",
    "    # Show plot\n",
    "    plt.show()"
   ]
  },
  {
   "cell_type": "markdown",
   "metadata": {},
   "source": [
    "Let's start by plotting the prior over the dynamics and the associated prior over $\\dot{V}(x)$."
   ]
  },
  {
   "cell_type": "code",
   "execution_count": null,
   "metadata": {
    "collapsed": false
   },
   "outputs": [],
   "source": [
    "mean, var = gp._raw_predict(grid)\n",
    "V_dot_mean, V_dot_var = compute_v_dot_distribution(dV, mean, var)\n",
    "S = get_safe_set(V_dot_mean + beta * np.sqrt(V_dot_var),\n",
    "                 -L*tau,\n",
    "                 S0=None)\n",
    "\n",
    "plot_model(S)"
   ]
  },
  {
   "cell_type": "markdown",
   "metadata": {},
   "source": [
    "Clearly the model does not allow us to classify any states as safe ($\\dot{V} < -L \\tau$). However, as a starting point, we assume that we know that the system is asymptotially stable within some initial set, $\\mathcal{S}_0$:\n",
    "\n",
    "$$\\mathcal{S}_0 = \\{ x \\in \\mathbb{R} \\,|\\, |x| < 0.2 \\}$$"
   ]
  },
  {
   "cell_type": "code",
   "execution_count": null,
   "metadata": {
    "collapsed": false
   },
   "outputs": [],
   "source": [
    "S0 = np.abs(grid.squeeze()) < 0.2"
   ]
  },
  {
   "cell_type": "markdown",
   "metadata": {},
   "source": [
    "## Online learning\n",
    "As we sample within this initial safe set, we gain more knowledge about the system. In particular, we iteratively select the state withing the safe set, $\\mathcal{S}_n$, where the dynamics are the most uncertain (highest variance)."
   ]
  },
  {
   "cell_type": "code",
   "execution_count": null,
   "metadata": {
    "collapsed": false
   },
   "outputs": [],
   "source": [
    "def get_max_level_set(dynamics_mean, dynamics_var):\n",
    "    V_dot = compute_v_dot_upper_bound(dV, dynamics_mean, dynamics_var, beta=2.)\n",
    "    S = get_safe_set(V_dot, -L*tau, S0=S0)\n",
    "    c = find_max_levelset(S, V, accuracy)\n",
    "    S[:] = V <= c\n",
    "    return S\n",
    "\n",
    "def update_gp():\n",
    "    dynamics_mean, dynamics_var = gp._raw_predict(grid)\n",
    "    S = get_max_level_set(dynamics_mean, dynamics_var)\n",
    "    max_id = np.argmax(dynamics_var[S])\n",
    "    max_state = grid[S][[max_id], :].copy()\n",
    "    gp.set_XY(np.vstack([gp.X, max_state]),\n",
    "              np.vstack([gp.Y, true_dynamics(max_state, noise=True)[:, [0]]]))\n",
    "    return S"
   ]
  },
  {
   "cell_type": "code",
   "execution_count": null,
   "metadata": {
    "collapsed": false
   },
   "outputs": [],
   "source": [
    "# Update the GP model a couple of times\n",
    "for i in range(4):\n",
    "    update_gp()"
   ]
  },
  {
   "cell_type": "code",
   "execution_count": null,
   "metadata": {
    "collapsed": false
   },
   "outputs": [],
   "source": [
    "# Plot the new safe set\n",
    "S = get_max_level_set(*gp._raw_predict(grid))\n",
    "plot_model(S)"
   ]
  },
  {
   "cell_type": "markdown",
   "metadata": {},
   "source": [
    "We continue to sample like this, until we find the maximum safe set"
   ]
  },
  {
   "cell_type": "code",
   "execution_count": null,
   "metadata": {
    "collapsed": false
   },
   "outputs": [],
   "source": [
    "for i in range(20):\n",
    "    update_gp()\n",
    "\n",
    "S = get_max_level_set(*gp._raw_predict(grid))\n",
    "plot_model(S)"
   ]
  },
  {
   "cell_type": "code",
   "execution_count": null,
   "metadata": {
    "collapsed": true
   },
   "outputs": [],
   "source": []
  }
 ],
 "metadata": {
  "kernelspec": {
   "display_name": "Python 2",
   "language": "python",
   "name": "python2"
  },
  "language_info": {
   "codemirror_mode": {
    "name": "ipython",
    "version": 2
   },
   "file_extension": ".py",
   "mimetype": "text/x-python",
   "name": "python",
   "nbconvert_exporter": "python",
   "pygments_lexer": "ipython2",
   "version": "2.7.11"
  }
 },
 "nbformat": 4,
 "nbformat_minor": 0
}
